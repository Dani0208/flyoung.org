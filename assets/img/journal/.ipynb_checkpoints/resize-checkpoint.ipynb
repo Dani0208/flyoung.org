{
 "cells": [
  {
   "cell_type": "code",
   "execution_count": 1,
   "metadata": {},
   "outputs": [],
   "source": [
    "import os\n",
    "from PIL import Image"
   ]
  },
  {
   "cell_type": "code",
   "execution_count": 34,
   "metadata": {},
   "outputs": [],
   "source": [
    "def resize(root, img_filename, basewidth, new_img_filename):\n",
    "    print(os.path.join(root,img_filename))\n",
    "    img = Image.open(os.path.join(root,img_filename))\n",
    "    wpercent = (basewidth/float(img.size[0]))\n",
    "    hsize = int((float(img.size[1])*float(wpercent)))\n",
    "    img = img.resize((basewidth,hsize), Image.ANTIALIAS)\n",
    "    sm_img_fullpath = os.path.join(root, new_img_filename)\n",
    "    img.save(sm_img_fullpath) \n",
    "    print(sm_img_fullpath + \" saved\")"
   ]
  },
  {
   "cell_type": "code",
   "execution_count": 6,
   "metadata": {},
   "outputs": [
    {
     "data": {
      "text/plain": [
       "'/Users/david/Projects/flyoung.org/assets/img/journal'"
      ]
     },
     "execution_count": 6,
     "metadata": {},
     "output_type": "execute_result"
    }
   ],
   "source": [
    "directory = os.getcwd()\n",
    "directory"
   ]
  },
  {
   "cell_type": "code",
   "execution_count": 7,
   "metadata": {},
   "outputs": [
    {
     "data": {
      "text/plain": [
       "['resize.ipynb', 'resize.py', '2018', '.ipynb_checkpoints']"
      ]
     },
     "execution_count": 7,
     "metadata": {},
     "output_type": "execute_result"
    }
   ],
   "source": [
    "os.listdir(directory)"
   ]
  },
  {
   "cell_type": "code",
   "execution_count": 8,
   "metadata": {},
   "outputs": [
    {
     "name": "stdout",
     "output_type": "stream",
     "text": [
      "resize.ipynb\n",
      "resize.py\n",
      "2018\n",
      ".ipynb_checkpoints\n"
     ]
    }
   ],
   "source": [
    "for file in os.listdir(directory):\n",
    "    filename = os.fsdecode(file)\n",
    "    print(filename)"
   ]
  },
  {
   "cell_type": "code",
   "execution_count": 21,
   "metadata": {},
   "outputs": [
    {
     "name": "stdout",
     "output_type": "stream",
     "text": [
      "('./', ['2018', '.ipynb_checkpoints'], ['.DS_Store', 'resize.ipynb', 'resize.py'])\n",
      "('./2018', ['2018-02-01', '2026-02-02', '2019-02-02', '2024-02-02', '2020-02-02', '2022-02-02', '2025-02-02', '2018-02-02', '2023-02-02', '2021-02-02'], ['.DS_Store'])\n",
      "('./2018/2018-02-01', [], ['sm.jpg', 'large.jpg'])\n",
      "('./2018/2026-02-02', [], ['sm.jpg', 'large.jpg'])\n",
      "('./2018/2019-02-02', [], ['sm.jpg', 'large.jpg'])\n",
      "('./2018/2024-02-02', [], ['sm.jpg', 'large.jpg'])\n",
      "('./2018/2020-02-02', [], ['sm.jpg', 'large.jpg'])\n",
      "('./2018/2022-02-02', [], ['sm.jpg', 'large.jpg'])\n",
      "('./2018/2025-02-02', [], ['sm.jpg', 'large.jpg'])\n",
      "('./2018/2018-02-02', [], ['sm.jpg', 'large.jpg'])\n",
      "('./2018/2023-02-02', [], ['sm.jpg', 'large.jpg'])\n",
      "('./2018/2021-02-02', [], ['sm.jpg', 'large.jpg'])\n",
      "('./.ipynb_checkpoints', [], ['resize-checkpoint.ipynb'])\n"
     ]
    }
   ],
   "source": [
    "for root in os.walk('./'):\n",
    "    print(root)"
   ]
  },
  {
   "cell_type": "code",
   "execution_count": 33,
   "metadata": {},
   "outputs": [
    {
     "name": "stdout",
     "output_type": "stream",
     "text": [
      "/Users/david/Projects/flyoung.org/assets/img/journal\n",
      "/Users/david/Projects/flyoung.org/assets/img/journal/2018\n",
      "/Users/david/Projects/flyoung.org/assets/img/journal/2018/2018-02-01\n",
      "/Users/david/Projects/flyoung.org/assets/img/journal/2018/2026-02-02\n",
      "/Users/david/Projects/flyoung.org/assets/img/journal/2018/2019-02-02\n",
      "/Users/david/Projects/flyoung.org/assets/img/journal/2018/2024-02-02\n",
      "/Users/david/Projects/flyoung.org/assets/img/journal/2018/2020-02-02\n",
      "/Users/david/Projects/flyoung.org/assets/img/journal/2018/2022-02-02\n",
      "/Users/david/Projects/flyoung.org/assets/img/journal/2018/2025-02-02\n",
      "/Users/david/Projects/flyoung.org/assets/img/journal/2018/2018-02-02\n",
      "/Users/david/Projects/flyoung.org/assets/img/journal/2018/2023-02-02\n",
      "/Users/david/Projects/flyoung.org/assets/img/journal/2018/2021-02-02\n",
      "/Users/david/Projects/flyoung.org/assets/img/journal/.ipynb_checkpoints\n"
     ]
    }
   ],
   "source": [
    "for root, directories, filenames in os.walk(os.getcwd()):\n",
    "    print(root)"
   ]
  },
  {
   "cell_type": "code",
   "execution_count": 22,
   "metadata": {},
   "outputs": [
    {
     "name": "stdout",
     "output_type": "stream",
     "text": [
      "['.DS_Store', 'resize.ipynb', 'resize.py']\n",
      "['.DS_Store']\n",
      "['sm.jpg', 'large.jpg']\n",
      "['sm.jpg', 'large.jpg']\n",
      "['sm.jpg', 'large.jpg']\n",
      "['sm.jpg', 'large.jpg']\n",
      "['sm.jpg', 'large.jpg']\n",
      "['sm.jpg', 'large.jpg']\n",
      "['sm.jpg', 'large.jpg']\n",
      "['sm.jpg', 'large.jpg']\n",
      "['sm.jpg', 'large.jpg']\n",
      "['sm.jpg', 'large.jpg']\n",
      "['resize-checkpoint.ipynb']\n"
     ]
    }
   ],
   "source": [
    "for root, directories, filenames in os.walk('./'):\n",
    "    print(filenames)"
   ]
  },
  {
   "cell_type": "code",
   "execution_count": 51,
   "metadata": {},
   "outputs": [
    {
     "name": "stdout",
     "output_type": "stream",
     "text": [
      "shrink!\n",
      "/Users/david/Projects/flyoung.org/assets/img/journal/2018/2018-02-01/lg.jpg\n",
      "/Users/david/Projects/flyoung.org/assets/img/journal/2018/2018-02-01/sm.jpg saved\n",
      "jpg\n",
      "shrink!\n",
      "/Users/david/Projects/flyoung.org/assets/img/journal/2018/2018-02-02/lg.jpg\n",
      "/Users/david/Projects/flyoung.org/assets/img/journal/2018/2018-02-02/sm.jpg saved\n",
      "jpg\n"
     ]
    }
   ],
   "source": [
    "for root, directories, filenames in os.walk(os.getcwd()):\n",
    "    if (\"lg.jpg\" in filenames or \"lg.JPG\" in filenames) and \"sm.jpg\" not in filenames:\n",
    "        print(\"shrink!\")\n",
    "        try:\n",
    "            resize(root, \"lg.jpg\", 600, 'sm.jpg')\n",
    "            print(\"jpg\")\n",
    "        except:\n",
    "            resize(root, \"lg.JPG\", 600, 'sm.jpg')\n",
    "            print(\"JPG\")"
   ]
  },
  {
   "cell_type": "code",
   "execution_count": null,
   "metadata": {},
   "outputs": [],
   "source": []
  }
 ],
 "metadata": {
  "kernelspec": {
   "display_name": "Python 3",
   "language": "python",
   "name": "python3"
  },
  "language_info": {
   "codemirror_mode": {
    "name": "ipython",
    "version": 3
   },
   "file_extension": ".py",
   "mimetype": "text/x-python",
   "name": "python",
   "nbconvert_exporter": "python",
   "pygments_lexer": "ipython3",
   "version": "3.6.5"
  }
 },
 "nbformat": 4,
 "nbformat_minor": 2
}
